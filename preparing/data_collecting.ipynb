{
 "cells": [
  {
   "metadata": {},
   "cell_type": "markdown",
   "source": "# Collecting users submission on Codeforces",
   "id": "ac44e46f8a3eb0fb"
  },
  {
   "metadata": {},
   "cell_type": "markdown",
   "source": "* This file uses the public Codeforces API to fully extract submissions and code of all active users (those who have participated in at least one round in the last 6 months).",
   "id": "c19ddc1b3ec80a9c"
  },
  {
   "metadata": {},
   "cell_type": "code",
   "outputs": [],
   "execution_count": null,
   "source": "# TODO",
   "id": "638061dbb539a1d3"
  }
 ],
 "metadata": {
  "kernelspec": {
   "display_name": "Python 3",
   "language": "python",
   "name": "python3"
  },
  "language_info": {
   "codemirror_mode": {
    "name": "ipython",
    "version": 2
   },
   "file_extension": ".py",
   "mimetype": "text/x-python",
   "name": "python",
   "nbconvert_exporter": "python",
   "pygments_lexer": "ipython2",
   "version": "2.7.6"
  }
 },
 "nbformat": 4,
 "nbformat_minor": 5
}
